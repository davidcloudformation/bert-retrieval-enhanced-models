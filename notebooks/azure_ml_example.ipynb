{
 "cells": [
  {
   "cell_type": "markdown",
   "metadata": {},
   "source": [
    "# Azure ML Example\n",
    "\n",
    "This notebook demonstrates how to train and deploy a BERT-based retrieval-enhanced model using Azure Machine Learning."
   ]
  },
  {
   "cell_type": "code",
   "execution_count": 1,
   "metadata": {},
   "outputs": [],
   "source": [
    "from azureml.core import Workspace, Experiment, Environment, ScriptRunConfig\n",
    "\n",
    "# Load the workspace\n",
    "ws = Workspace.from_config()\n",
    "\n",
    "# Create an experiment\n",
    "experiment = Experiment(workspace=ws, name='bert-retrieval-experiment')\n",
    "\n",
    "# Create an environment\n",
    "env = Environment.from_conda_specification(name='bert-retrieval-env', file_path='../environment.yml')\n",
    "\n",
    "# Create a script config\n",
    "src = ScriptRunConfig(source_directory='../scripts', script='train.py', environment=env)\n",
    "\n",
    "# Submit the experiment\n",
    "run = experiment.submit(config=src)\n",
    "run.wait_for_completion(show_output=True)"
   ]
  },
  {
   "cell_type": "markdown",
   "metadata": {},
   "source": [
    "## Deploy the Model\n",
    "\n",
    "Once the model is trained, you can deploy it using Azure ML."
   ]
  },
  {
   "cell_type": "code",
   "execution_count": 2,
   "metadata": {},
   "outputs": [],
   "source": [
    "from azureml.core.model import Model\n",
    "from azureml.core.webservice import AciWebservice, Webservice\n",
    "from azureml.core.model import InferenceConfig\n",
    "\n",
    "# Register the model\n",
    "model = run.register_model(model_name='bert-retrieval-model', model_path='outputs/model')\n",
    "\n",
    "# Create an inference config\n",
    "inference_config = InferenceConfig(entry_script='../scripts/score.py', environment=env)\n",
    "\n",
    "# Define the deployment configuration\n",
    "aci_config = AciWebservice.deploy_configuration(cpu_cores=1, memory_gb=1)\n",
    "\n",
    "# Deploy the model\n",
    "service = Model.deploy(workspace=ws, name='bert-retrieval-service', models=[model], inference_config=inference_config, deployment_config=aci_config)\n",
    "service.wait_for_deployment(show_output=True)\n",
    "\n",
    "print(service.scoring_uri)"
   ]
  }
 ],
 "metadata": {
  "kernelspec": {
   "display_name": "Python 3",
   "language": "python",
   "name": "python3"
  },
  "language_info": {
   "codemirror_mode": {
    "name": "ipython",
    "version": 3
   },
   "file_extension": ".py",
   "mimetype": "text/x-python",
   "name": "python",
   "nbconvert_exporter": "python",
   "pygments_lexer": "ipython3",
   "version": "3.8.5"
  }
 },
 "nbformat": 4,
 "nbformat_minor": 4
}